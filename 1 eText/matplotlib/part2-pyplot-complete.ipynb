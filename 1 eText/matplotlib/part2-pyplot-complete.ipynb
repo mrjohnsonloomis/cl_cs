{
 "cells": [
  {
   "cell_type": "markdown",
   "metadata": {},
   "source": [
    "# Part 2: The Pyplot Interface - Intermediate Visualization\n",
    "\n",
    "In Part 1, we learned the basics of creating plots with Matplotlib using data from files. Now, we'll explore the pyplot interface in more depth, learning how to create more complex and customized visualizations.\n",
    "\n",
    "## The Pyplot Interface\n",
    "\n",
    "The pyplot interface is designed to be similar to MATLAB's plotting functions, making it easier for MATLAB users to transition to Python. It provides a state-based interface to the underlying object-oriented plotting library. The state-based interface keeps track of the current figure and plotting area, and plotting functions are directed to the current axes."
   ]
  },
  {
   "cell_type": "code",
   "execution_count": null,
   "metadata": {},
   "outputs": [],
   "source": [
    "import matplotlib.pyplot as plt\n",
    "import math  # We'll use the math module for some calculations\n",
    "\n",
    "# Configure Matplotlib to display plots inline in the Jupyter Notebook\n",
    "%matplotlib inline"
   ]
  },
  {
   "cell_type": "markdown",
   "metadata": {},
   "source": [
    "## Creating Additional Data Files\n",
    "\n",
    "Let's create some additional data files for our more advanced visualizations:"
   ]
  },
  {
   "cell_type": "code",
   "execution_count": null,
   "metadata": {},
   "outputs": [],
   "source": [
    "# Create a file with trigonometric data\n",
    "with open('trig_data.txt', 'w') as file:\n",
    "    file.write(\"x,sin_x,cos_x\\n\")  # Header row\n",
    "    \n",
    "    # Generate data points from 0 to 2π\n",
    "    for i in range(100):\n",
    "        x = i * 2 * math.pi / 99  # 100 points from 0 to 2π\n",
    "        sin_x = math.sin(x)\n",
    "        cos_x = math.cos(x)\n",
    "        file.write(f\"{x},{sin_x},{cos_x}\\n\")\n",
    "        \n",
    "# Create a file with data for a bar chart with error bars\n",
    "with open('data_with_errors.txt', 'w') as file:\n",
    "    file.write(\"Category,Value,Error\\n\")  # Header row\n",
    "    \n",
    "    # Sample data with error margins\n",
    "    categories = ['A', 'B', 'C', 'D', 'E']\n",
    "    values = [25, 32, 21, 35, 29]\n",
    "    errors = [2, 3, 2, 4, 3]\n",
    "    \n",
    "    for category, value, error in zip(categories, values, errors):\n",
    "        file.write(f\"{category},{value},{error}\\n\")\n",
    "        \n",
    "# Create a file with pie chart data\n",
    "with open('pie_data.txt', 'w') as file:\n",
    "    file.write(\"Category,Value\\n\")  # Header row\n",
    "    \n",
    "    # Sample data for pie chart\n",
    "    categories = ['Category A', 'Category B', 'Category C', 'Category D', 'Category E']\n",
    "    values = [35, 25, 20, 10, 10]\n",
    "    \n",
    "    for category, value in zip(categories, values):\n",
    "        file.write(f\"{category},{value}\\n\")\n",
    "        \n",
    "# Create a file with histogram data\n",
    "with open('histogram_data.txt', 'w') as file:\n",
    "    file.write(\"Value\\n\")  # Header row\n",
    "    \n",
    "    # Generate a bell-shaped distribution of data using Box-Muller transform\n",
    "    for i in range(1000):\n",
    "        # Use the Box-Muller transform to generate normally distributed data\n",
    "        u1 = (i + 0.5) / 1000  # A value between 0 and 1\n",
    "        u2 = ((i * 17) % 1000 + 0.5) / 1000  # Another pseudorandom value between 0 and 1\n",
    "        \n",
    "        # Box-Muller transform\n",
    "        z = math.sqrt(-2 * math.log(u1)) * math.cos(2 * math.pi * u2)\n",
    "        \n",
    "        # Adjust the mean and standard deviation\n",
    "        value = 0 + 1 * z  # mean=0, std=1\n",
    "        \n",
    "        file.write(f\"{value}\\n\")\n",
    "\n",
    "print(\"Additional data files created successfully!\")"
   ]
  },
  {
   "cell_type": "markdown",
   "metadata": {},
   "source": [
    "## Customizing Line Plots\n",
    "\n",
    "Let's create a more sophisticated line plot with customized line styles, colors, and markers using our trigonometric data:"
   ]
  },
  {
   "cell_type": "code",
   "execution_count": null,
   "metadata": {},
   "outputs": [],
   "source": [
    "# Read the trigonometric data from the file\n",
    "x_values = []\n",
    "sin_values = []\n",
    "cos_values = []\n",
    "\n",
    "with open('trig_data.txt', 'r') as file:\n",
    "    next(file)  # Skip header line\n",
    "    for line in file:\n",
    "        x, sin_x, cos_x = line.strip().split(',')\n",
    "        x_values.append(float(x))\n",
    "        sin_values.append(float(sin_x))\n",
    "        cos_values.append(float(cos_x))\n",
    "\n",
    "# Create a customized line plot\n",
    "plt.plot(x_values, sin_values, color='red', linestyle='-', linewidth=2, marker='o', markersize=5, label='sin(x)')\n",
    "plt.plot(x_values, cos_values, color='blue', linestyle='--', linewidth=2, marker='^', markersize=5, label='cos(x)')\n",
    "\n",
    "# Add labels and title\n",
    "plt.xlabel('x')\n",
    "plt.ylabel('y')\n",
    "plt.title('Sine and Cosine Functions')\n",
    "\n",
    "# Add a grid\n",
    "plt.grid(True, color='gray', linestyle=':', linewidth=0.5)\n",
    "\n",
    "# Add a legend\n",
    "plt.legend(loc='upper right')\n",
    "\n",
    "# Display the plot\n",
    "plt.show()"
   ]
  },
  {
   "cell_type": "markdown",
   "metadata": {},
   "source": [
    "### Key Customization Parameters\n",
    "\n",
    "1. **Line Properties:**\n",
    "   - `color` or `c`: Sets the color of the line or marker\n",
    "   - `linestyle` or `ls`: Sets the style of the line (e.g., solid, dashed, dotted)\n",
    "   - `linewidth` or `lw`: Sets the width of the line\n",
    "   - `marker`: Sets the style of the markers (e.g., circle, square, diamond)\n",
    "   - `markersize` or `ms`: Sets the size of the markers\n",
    "\n",
    "2. **Axis Labels and Title:**\n",
    "   - `fontsize`: Sets the font size\n",
    "   - `fontweight`: Sets the font weight (e.g., 'normal', 'bold')\n",
    "   - `color`: Sets the color of the text\n",
    "\n",
    "3. **Legend:**\n",
    "   - `loc`: Sets the location of the legend (e.g., 'upper right', 'lower left')\n",
    "   - `fontsize`: Sets the font size of the legend text\n",
    "   - `frameon`: If True, draws a frame around the legend\n",
    "   \n",
    "4. **Grid:**\n",
    "   - `color`: Sets the color of the grid lines\n",
    "   - `linestyle`: Sets the style of the grid lines\n",
    "   - `linewidth`: Sets the width of the grid lines"
   ]
  },
  {
   "cell_type": "markdown",
   "metadata": {},
   "source": [
    "## Multiple Plots in One Figure\n",
    "\n",
    "You can create multiple plots in the same figure using `plt.subplot()`. This function divides the figure into a grid of subplots and creates axes for each one. Let's use our trigonometric data to create multiple subplots:"
   ]
  },
  {
   "cell_type": "code",
   "execution_count": null,
   "metadata": {},
   "outputs": [],
   "source": [
    "# Calculate additional data from our trigonometric data\n",
    "tan_values = []\n",
    "double_sin_values = []\n",
    "\n",
    "for i in range(len(x_values)):\n",
    "    # Calculate tan(x), but avoid division by zero\n",
    "    if abs(cos_values[i]) > 0.01:  # Avoid very small values of cos(x)\n",
    "        tan_values.append(sin_values[i] / cos_values[i])\n",
    "    else:\n",
    "        tan_values.append(float('nan'))  # Not a number for undefined values\n",
    "    \n",
    "    # Calculate sin(2x)\n",
    "    double_sin_values.append(math.sin(2 * x_values[i]))\n",
    "\n",
    "# Create a figure with 2x2 subplots\n",
    "plt.figure(figsize=(10, 8))  # Set the figure size (width, height) in inches\n",
    "\n",
    "# First subplot\n",
    "plt.subplot(2, 2, 1)  # 2 rows, 2 columns, 1st subplot\n",
    "plt.plot(x_values, sin_values, 'r-')\n",
    "plt.title('Sine Function')\n",
    "plt.grid(True)\n",
    "\n",
    "# Second subplot\n",
    "plt.subplot(2, 2, 2)  # 2 rows, 2 columns, 2nd subplot\n",
    "plt.plot(x_values, cos_values, 'b--')\n",
    "plt.title('Cosine Function')\n",
    "plt.grid(True)\n",
    "\n",
    "# Third subplot\n",
    "plt.subplot(2, 2, 3)  # 2 rows, 2 columns, 3rd subplot\n",
    "plt.plot(x_values, tan_values, 'g-.')\n",
    "plt.title('Tangent Function')\n",
    "plt.ylim(-5, 5)  # Limit y-axis to keep the plot readable\n",
    "plt.grid(True)\n",
    "\n",
    "# Fourth subplot\n",
    "plt.subplot(2, 2, 4)  # 2 rows, 2 columns, 4th subplot\n",
    "plt.plot(x_values, double_sin_values, 'm:')\n",
    "plt.title('Double Frequency Sine')\n",
    "plt.grid(True)\n",
    "\n",
    "# Adjust layout to prevent overlap\n",
    "plt.tight_layout()\n",
    "\n",
    "# Display the plot\n",
    "plt.show()"
   ]
  },
  {
   "cell_type": "markdown",
   "metadata": {},
   "source": [
    "## Customizing Axis Limits and Ticks\n",
    "\n",
    "You can customize the ranges of the x and y axes, as well as the tick marks along those axes:"
   ]
  },
  {
   "cell_type": "code",
   "execution_count": null,
   "metadata": {},
   "outputs": [],
   "source": [
    "# Create a plot using the sine data\n",
    "plt.plot(x_values, sin_values, 'b-')\n",
    "\n",
    "# Set axis limits\n",
    "plt.xlim(0, 2 * math.pi)     # Set x-axis limits\n",
    "plt.ylim(-1.5, 1.5)        # Set y-axis limits\n",
    "\n",
    "# Set custom x-ticks at multiples of π\n",
    "plt.xticks([0, math.pi/2, math.pi, 3*math.pi/2, 2*math.pi], \n",
    "           ['0', '$\\pi/2$', '$\\pi$', '$3\\pi/2$', '$2\\pi$'])\n",
    "\n",
    "# Set custom y-ticks\n",
    "plt.yticks([-1, 0, 1], ['Min', 'Zero', 'Max'])\n",
    "\n",
    "# Add labels and title\n",
    "plt.xlabel('x')\n",
    "plt.ylabel('sin(x)')\n",
    "plt.title('Customized Axis Limits and Ticks')\n",
    "\n",
    "# Add a grid\n",
    "plt.grid(True)\n",
    "\n",
    "# Display the plot\n",
    "plt.show()"
   ]
  },
  {
   "cell_type": "markdown",
   "metadata": {},
   "source": [
    "## Creating Different Types of Plots\n",
    "\n",
    "Matplotlib supports many different types of plots. Let's explore a few more types:\n",
    "\n",
    "### Bar Chart with Error Bars"
   ]
  },
  {
   "cell_type": "code",
   "execution_count": null,
   "metadata": {},
   "outputs": [],
   "source": [
    "# Read data for bar chart with error bars\n",
    "categories = []\n",
    "values = []\n",
    "errors = []\n",
    "\n",
    "with open('data_with_errors.txt', 'r') as file:\n",
    "    next(file)  # Skip header line\n",
    "    for line in file:\n",
    "        category, value, error = line.strip().split(',')\n",
    "        categories.append(category)\n",
    "        values.append(float(value))\n",
    "        errors.append(float(error))\n",
    "\n",
    "# Create a bar chart with error bars\n",
    "plt.figure(figsize=(8, 6))\n",
    "plt.bar(categories, values, yerr=errors, capsize=5, color='skyblue', edgecolor='black')\n",
    "\n",
    "# Add labels and title\n",
    "plt.xlabel('Categories')\n",
    "plt.ylabel('Values')\n",
    "plt.title('Bar Chart with Error Bars')\n",
    "\n",
    "# Display the plot\n",
    "plt.show()"
   ]
  },
  {
   "cell_type": "markdown",
   "metadata": {},
   "source": [
    "### Horizontal Bar Chart"
   ]
  },
  {
   "cell_type": "code",
   "execution_count": null,
   "metadata": {},
   "outputs": [],
   "source": [
    "# Create a horizontal bar chart using the same data\n",
    "plt.figure(figsize=(8, 6))\n",
    "plt.barh(categories, values, color='lightgreen', edgecolor='black')\n",
    "\n",
    "# Add labels and title\n",
    "plt.xlabel('Values')\n",
    "plt.ylabel('Categories')\n",
    "plt.title('Horizontal Bar Chart')\n",
    "\n",
    "# Display the plot\n",
    "plt.show()"
   ]
  },
  {
   "cell_type": "markdown",
   "metadata": {},
   "source": [
    "### Pie Chart"
   ]
  },
  {
   "cell_type": "code",
   "execution_count": null,
   "metadata": {},
   "outputs": [],
   "source": [
    "# Read data for pie chart\n",
    "pie_categories = []\n",
    "pie_values = []\n",
    "\n",
    "with open('pie_data.txt', 'r') as file:\n",
    "    next(file)  # Skip header line\n",
    "    for line in file:\n",
    "        category, value = line.strip().split(',')\n",
    "        pie_categories.append(category)\n",
    "        pie_values.append(float(value))\n",
    "\n",
    "# Create a pie chart\n",
    "plt.figure(figsize=(8, 8))\n",
    "plt.pie(pie_values, labels=pie_categories, autopct='%1.1f%%', startangle=90, shadow=True,\n",
    "        colors=['red', 'green', 'blue', 'orange', 'purple'])\n",
    "\n",
    "# Add a title\n",
    "plt.title('Pie Chart')\n",
    "\n",
    "# Ensure the pie chart is drawn as a circle\n",
    "plt.axis('equal')\n",
    "\n",
    "# Display the plot\n",
    "plt.show()"
   ]
  },
  {
   "cell_type": "markdown",
   "metadata": {},
   "source": [
    "### Histogram"
   ]
  },
  {
   "cell_type": "code",
   "execution_count": null,
   "metadata": {},
   "outputs": [],
   "source": [
    "# Read data for histogram\n",
    "histogram_values = []\n",
    "\n",
    "with open('histogram_data.txt', 'r') as file:\n",
    "    next(file)  # Skip header line\n",
    "    for line in file:\n",
    "        value = line.strip()\n",
    "        if value:  # Skip empty lines\n",
    "            histogram_values.append(float(value))\n",
    "\n",
    "# Create a histogram\n",
    "plt.figure(figsize=(8, 6))\n",
    "plt.hist(histogram_values, bins=30, color='skyblue', edgecolor='black', alpha=0.7)\n",
    "\n",
    "# Add labels and title\n",
    "plt.xlabel('Value')\n",
    "plt.ylabel('Frequency')\n",
    "plt.title('Histogram of Normal Distribution')\n",
    "\n",
    "# Add a grid\n",
    "plt.grid(True, alpha=0.3)\n",
    "\n",
    "# Display the plot\n",
    "plt.show()"
   ]
  },
  {
   "cell_type": "markdown",
   "metadata": {},
   "source": [
    "## Saving Plots\n",
    "\n",
    "You can save your plots to various file formats using the `plt.savefig()` function."
   ]
  },
  {
   "cell_type": "code",
   "execution_count": null,
   "metadata": {},
   "outputs": [],
   "source": [
    "# Create a plot using the sine data\n",
    "plt.figure(figsize=(8, 6))\n",
    "plt.plot(x_values, sin_values, 'r-')\n",
    "plt.title('Sine Function')\n",
    "plt.xlabel('x')\n",
    "plt.ylabel('sin(x)')\n",
    "plt.grid(True)\n",
    "\n",
    "# Save the plot to different file formats\n",
    "plt.savefig('sine_plot.png', dpi=300)  # PNG format with 300 DPI\n",
    "plt.savefig('sine_plot.pdf')           # PDF format\n",
    "plt.savefig('sine_plot.svg')           # SVG format\n",
    "\n",
    "# Display the plot\n",
    "plt.show()"
   ]
  },
  {
   "cell_type": "markdown",
   "metadata": {},
   "source": [
    "## Exercise: Create a Customized Multi-Plot Figure\n",
    "\n",
    "Now it's your turn! Create a figure with two subplots side by side:\n",
    "1. On the left, create a scatter plot using the data from 'scatter_data.txt' with customized markers and colors.\n",
    "2. On the right, create a bar chart from 'sales_data.txt' with custom colors and labels.\n",
    "\n",
    "Feel free to customize these plots as much as you like!"
   ]
  },
  {
   "cell_type": "code",
   "execution_count": null,
   "metadata": {},
   "outputs": [],
   "source": [
    "# Read the scatter data from the file\n",
    "scatter_x = []\n",
    "scatter_y = []\n",
    "\n",
    "with open('scatter_data.txt', 'r') as file:\n",
    "    next(file)  # Skip header line\n",
    "    for line in file:\n",
    "        x, y = line.strip().split(',')\n",
    "        scatter_x.append(float(x))\n",
    "        scatter_y.append(float(y))\n",
    "\n",
    "# Read the sales data from the file\n",
    "sales_categories = []\n",
    "sales_values = []\n",
    "\n",
    "with open('sales_data.txt', 'r') as file:\n",
    "    next(file)  # Skip header line\n",
    "    for line in file:\n",
    "        category, value = line.strip().split(',')\n",
    "        sales_categories.append(category)\n",
    "        sales_values.append(float(value))\n",
    "\n",
    "# Create your figure with subplots here\n",
    "# ...\n",
    "\n",
    "# Don't forget to add labels, titles, and customize your plots\n",
    "# ...\n",
    "\n",
    "# Display your figure\n",
    "# ..."
   ]
  },
  {
   "cell_type": "markdown",
   "metadata": {},
   "source": [
    "## Summary\n",
    "\n",
    "In this section, we've explored the pyplot interface of Matplotlib in more depth, learning how to:\n",
    "\n",
    "- Customize line plots with different styles, colors, and markers\n",
    "- Create multiple subplots in a single figure\n",
    "- Customize axis limits and ticks\n",
    "- Create different types of plots: bar charts, horizontal bar charts, pie charts, and histograms\n",
    "- Save plots to different file formats\n",
    "\n",
    "In the next part, we'll explore the object-oriented approach to Matplotlib, which offers even more flexibility and control over your visualizations using data from files."
   ]
  }
 ],
 "metadata": {
  "kernelspec": {
   "display_name": "Python 3",
   "language": "python",
   "name": "python3"
  },
  "language_info": {
   "codemirror_mode": {
    "name": "ipython",
    "version": 3
   },
   "file_extension": ".py",
   "mimetype": "text/x-python",
   "name": "python",
   "nbconvert_exporter": "python",
   "pygments_lexer": "ipython3",
   "version": "3.8.10"
  }
 },
 "nbformat": 4,
 "nbformat_minor": 4
}
