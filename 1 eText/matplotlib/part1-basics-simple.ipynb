{
 "cells": [
  {
   "cell_type": "markdown",
   "metadata": {},
   "source": [
    "# Part 1: Introduction to Matplotlib - The Basics\n",
    "\n",
    "Welcome to this tutorial on Matplotlib, one of the most powerful and popular data visualization libraries in Python! This notebook will guide you through the basics of creating and customizing plots using real data from files.\n",
    "\n",
    "## What is Matplotlib?\n",
    "\n",
    "Matplotlib is a comprehensive library for creating static, animated, and interactive visualizations in Python. It was created by John Hunter in 2003 and is designed to be as usable as MATLAB with the advantage of being free and open-source.\n",
    "\n",
    "The library consists of several modules, but the most commonly used is `pyplot`, which provides a simple interface for creating plots. We'll focus on this interface in the first part of our tutorial."
   ]
  },
  {
   "cell_type": "markdown",
   "metadata": {},
   "source": [
    "## Setting Up Your Environment\n",
    "\n",
    "Before we begin plotting, let's make sure Matplotlib is installed. If you're working in a standard data science environment like Anaconda, Matplotlib should already be installed. Otherwise, you can install it using pip:"
   ]
  },
  {
   "cell_type": "code",
   "execution_count": null,
   "metadata": {},
   "outputs": [],
   "source": [
    "# Uncomment and run this if Matplotlib is not installed\n",
    "# !pip install matplotlib"
   ]
  },
  {
   "cell_type": "markdown",
   "metadata": {},
   "source": [
    "Now, let's import the `pyplot` module, which is conventionally imported as `plt`:"
   ]
  },
  {
   "cell_type": "code",
   "execution_count": null,
   "metadata": {},
   "outputs": [],
   "source": [
    "import matplotlib.pyplot as plt\n",
    "\n",
    "# This line configures Matplotlib to display plots inline in the Jupyter Notebook\n",
    "%matplotlib inline"
   ]
  },
  {
   "cell_type": "markdown",
   "metadata": {},
   "source": [
    "## Sample Data for Our Tutorials\n",
    "\n",
    "Throughout these tutorials, we'll be working with several data files. Let's create them once here so we can use them throughout all three parts of the tutorial. We'll use simple text files with values separated by commas."
   ]
  },
  {
   "cell_type": "code",
   "execution_count": null,
   "metadata": {},
   "outputs": [],
   "source": [
    "# Create a sample data file with time series data\n",
    "with open('time_series_data.txt', 'w') as file:\n",
    "    file.write(\"Time,Value\\n\")  # Header row\n",
    "    \n",
    "    # Generate some sine-wave-like data\n",
    "    for i in range(100):  # 100 data points\n",
    "        # Create sine-wave pattern manually\n",
    "        if i < 25:\n",
    "            value = i / 25  # Rising\n",
    "        elif i < 50:\n",
    "            value = 1 - (i - 25) / 25  # Falling\n",
    "        elif i < 75:\n",
    "            value = -(i - 50) / 25  # Falling negative\n",
    "        else:\n",
    "            value = -1 + (i - 75) / 25  # Rising to zero\n",
    "        \n",
    "        file.write(f\"{i/10},{value}\\n\")\n",
    "        \n",
    "# Create a sample data file with sales data\n",
    "with open('sales_data.txt', 'w') as file:\n",
    "    file.write(\"Category,Sales\\n\")  # Header row\n",
    "    \n",
    "    # Sample sales data by category\n",
    "    categories = ['Electronics', 'Clothing', 'Home & Kitchen', 'Books', 'Sports & Outdoors']\n",
    "    sales = [12000, 8000, 9000, 4000, 7000]\n",
    "    \n",
    "    for category, sale in zip(categories, sales):\n",
    "        file.write(f\"{category},{sale}\\n\")\n",
    "        \n",
    "# Create a sample data file with scatter plot data\n",
    "with open('scatter_data.txt', 'w') as file:\n",
    "    file.write(\"X,Y\\n\")  # Header row\n",
    "    \n",
    "    # Generate some random-looking data points\n",
    "    # Using a simple algorithm instead of random numbers\n",
    "    for i in range(50):  # 50 data points\n",
    "        x = (i * 17 % 100) / 10  # Pseudo-random x between 0 and 10\n",
    "        y = (i * 23 % 100) / 10  # Pseudo-random y between 0 and 10\n",
    "        file.write(f\"{x},{y}\\n\")\n",
    "        \n",
    "# Create a sample data file with weather data\n",
    "with open('weather_data.txt', 'w') as file:\n",
    "    file.write(\"Month,Temperature,Rainfall\\n\")  # Header row\n",
    "    \n",
    "    # Sample weather data by month\n",
    "    months = ['Jan', 'Feb', 'Mar', 'Apr', 'May', 'Jun']\n",
    "    temperatures = [10, 12, 15, 20, 25, 28]\n",
    "    rainfall = [50, 40, 30, 20, 15, 10]\n",
    "    \n",
    "    for month, temp, rain in zip(months, temperatures, rainfall):\n",
    "        file.write(f\"{month},{temp},{rain}\\n\")\n",
    "\n",
    "print(\"Sample data files created successfully!\")"
   ]
  },
  {
   "cell_type": "markdown",
   "metadata": {},
   "source": [
    "## Creating Your First Plot\n",
    "\n",
    "Now that we have some data, let's create our first plot using data from a file. We'll start with a simple line plot using the time series data we just created."
   ]
  },
  {
   "cell_type": "code",
   "execution_count": null,
   "metadata": {},
   "outputs": [],
   "source": [
    "# Read the time series data from the file\n",
    "times = []\n",
    "values = []\n",
    "\n",
    "with open('time_series_data.txt', 'r') as file:\n",
    "    next(file)  # Skip header line\n",
    "    for line in file:\n",
    "        t, v = line.strip().split(',')\n",
    "        times.append(float(t))\n",
    "        values.append(float(v))\n",
    "\n",
    "# Create a simple line plot\n",
    "plt.plot(times, values)\n",
    "\n",
    "# Display the plot\n",
    "plt.show()"
   ]
  },
  {
   "cell_type": "markdown",
   "metadata": {},
   "source": [
    "Congratulations! You've created your first Matplotlib plot using data from a file. Let's break down what happened:\n",
    "\n",
    "1. We read the data from the text file, extracting the time values and the corresponding data values.\n",
    "2. We used the `plt.plot()` function to create a line plot of these data points.\n",
    "3. We called `plt.show()` to display the plot.\n",
    "\n",
    "Now, let's add some basic elements to make our plot more informative:"
   ]
  },
  {
   "cell_type": "code",
   "execution_count": null,
   "metadata": {},
   "outputs": [],
   "source": [
    "# Create the line plot again\n",
    "plt.plot(times, values)\n",
    "\n",
    "# Add labels and title\n",
    "plt.xlabel('Time')\n",
    "plt.ylabel('Value')\n",
    "plt.title('Time Series Data')\n",
    "\n",
    "# Add a grid\n",
    "plt.grid(True)\n",
    "\n",
    "# Display the plot\n",
    "plt.show()"
   ]
  },
  {
   "cell_type": "markdown",
   "metadata": {},
   "source": [
    "## Creating a Scatter Plot\n",
    "\n",
    "Line plots are useful for continuous data, but sometimes you want to visualize discrete data points. Let's create a scatter plot using the data we generated earlier:"
   ]
  },
  {
   "cell_type": "code",
   "execution_count": null,
   "metadata": {},
   "outputs": [],
   "source": [
    "# Read the scatter data from the file\n",
    "x_values = []\n",
    "y_values = []\n",
    "\n",
    "with open('scatter_data.txt', 'r') as file:\n",
    "    next(file)  # Skip header line\n",
    "    for line in file:\n",
    "        x, y = line.strip().split(',')\n",
    "        x_values.append(float(x))\n",
    "        y_values.append(float(y))\n",
    "\n",
    "# Create a scatter plot\n",
    "plt.scatter(x_values, y_values)\n",
    "\n",
    "# Add labels and title\n",
    "plt.xlabel('X-axis')\n",
    "plt.ylabel('Y-axis')\n",
    "plt.title('Scatter Plot')\n",
    "\n",
    "# Display the plot\n",
    "plt.show()"
   ]
  },
  {
   "cell_type": "markdown",
   "metadata": {},
   "source": [
    "## Creating a Bar Chart\n",
    "\n",
    "Bar charts are excellent for comparing quantities between different categories. Let's create a simple bar chart using our sales data:"
   ]
  },
  {
   "cell_type": "code",
   "execution_count": null,
   "metadata": {},
   "outputs": [],
   "source": [
    "# Read the sales data from the file\n",
    "categories = []\n",
    "sales = []\n",
    "\n",
    "with open('sales_data.txt', 'r') as file:\n",
    "    next(file)  # Skip header line\n",
    "    for line in file:\n",
    "        category, sale = line.strip().split(',')\n",
    "        categories.append(category)\n",
    "        sales.append(float(sale))\n",
    "\n",
    "# Create a bar chart\n",
    "plt.bar(categories, sales, color='green')\n",
    "\n",
    "# Add labels and title\n",
    "plt.xlabel('Product Category')\n",
    "plt.ylabel('Sales')\n",
    "plt.title('Sales by Product Category')\n",
    "\n",
    "# Rotate x-tick labels for better readability\n",
    "plt.xticks(rotation=45)\n",
    "\n",
    "# Adjust layout to ensure all elements are visible\n",
    "plt.tight_layout()\n",
    "\n",
    "# Display the plot\n",
    "plt.show()"
   ]
  },
  {
   "cell_type": "markdown",
   "metadata": {},
   "source": [
    "## Common Errors and Troubleshooting\n",
    "\n",
    "When working with Matplotlib and data files, you might encounter some common errors. Here are a few to watch out for:\n",
    "\n",
    "1. **File not found**: Make sure the path to your data file is correct.\n",
    "2. **Data format issues**: Ensure that your data can be converted to the appropriate type (e.g., strings to numbers for numerical plots).\n",
    "3. **Unequal array lengths**: When creating a plot, make sure your x and y arrays have the same length.\n",
    "4. **Plot not showing**: Make sure to call `plt.show()` at the end of your plotting code.\n",
    "5. **Missing labels**: Don't forget to add axis labels and titles for clarity.\n",
    "6. **Cut-off elements**: If parts of your plot (like axis labels or titles) are cut off, use `plt.tight_layout()` to adjust the plot layout.\n",
    "\n",
    "## Exercise: Create Your Own Plot\n",
    "\n",
    "Now it's your turn! Try creating a plot using the weather data we've prepared. You might create a line plot showing temperature changes, a bar chart of rainfall, or something else creative."
   ]
  },
  {
   "cell_type": "code",
   "execution_count": null,
   "metadata": {},
   "outputs": [],
   "source": [
    "# Read the weather data from the file\n",
    "months = []\n",
    "temperatures = []\n",
    "rainfall = []\n",
    "\n",
    "with open('weather_data.txt', 'r') as file:\n",
    "    next(file)  # Skip header line\n",
    "    for line in file:\n",
    "        month, temp, rain = line.strip().split(',')\n",
    "        months.append(month)\n",
    "        temperatures.append(float(temp))\n",
    "        rainfall.append(float(rain))\n",
    "\n",
    "# Create your plot here\n",
    "# Hint: You can try a line plot, bar chart, or something else!\n",
    "\n",
    "# Don't forget to add labels and title\n",
    "\n",
    "# Display your plot"
   ]
  },
  {
   "cell_type": "markdown",
   "metadata": {},
   "source": [
    "## Summary\n",
    "\n",
    "In this introduction to Matplotlib, you've learned how to:\n",
    "\n",
    "- Import Matplotlib and configure it for use in Jupyter Notebook\n",
    "- Read data from text files for visualization\n",
    "- Create basic line plots, scatter plots, and bar charts\n",
    "- Add labels, titles, and grids to your plots\n",
    "- Troubleshoot common errors\n",
    "\n",
    "In the next part, we'll explore more features of the pyplot interface and learn how to create more complex visualizations with data from files."
   ]
  }
 ],
 "metadata": {
  "kernelspec": {
   "display_name": "Python 3",
   "language": "python",
   "name": "python3"
  },
  "language_info": {
   "codemirror_mode": {
    "name": "ipython",
    "version": 3
   },
   "file_extension": ".py",
   "mimetype": "text/x-python",
   "name": "python",
   "nbconvert_exporter": "python",
   "pygments_lexer": "ipython3",
   "version": "3.8.10"
  }
 },
 "nbformat": 4,
 "nbformat_minor": 4
}
